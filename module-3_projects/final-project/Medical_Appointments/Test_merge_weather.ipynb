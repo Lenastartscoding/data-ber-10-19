{
 "cells": [
  {
   "cell_type": "markdown",
   "metadata": {},
   "source": [
    "### 1.1 Import packages for data cleaning & visualization"
   ]
  },
  {
   "cell_type": "code",
   "execution_count": 1,
   "metadata": {},
   "outputs": [],
   "source": [
    "import pandas as pd\n",
    "import numpy as np\n",
    "from scipy import stats\n",
    "import statsmodels.api as sm\n",
    "import seaborn as sns\n",
    "import matplotlib.pyplot as plt\n",
    "%matplotlib inline\n",
    "\n",
    "sns.set_style(\"white\")\n",
    "\n",
    "pd.set_option(\"display.max_columns\",100)\n",
    "pd.set_option(\"display.max_rows\",100)"
   ]
  },
  {
   "cell_type": "code",
   "execution_count": 35,
   "metadata": {},
   "outputs": [],
   "source": [
    "med = pd.read_pickle(\"med.pkl\")"
   ]
  },
  {
   "cell_type": "code",
   "execution_count": 36,
   "metadata": {},
   "outputs": [
    {
     "data": {
      "text/html": [
       "<div>\n",
       "<style scoped>\n",
       "    .dataframe tbody tr th:only-of-type {\n",
       "        vertical-align: middle;\n",
       "    }\n",
       "\n",
       "    .dataframe tbody tr th {\n",
       "        vertical-align: top;\n",
       "    }\n",
       "\n",
       "    .dataframe thead th {\n",
       "        text-align: right;\n",
       "    }\n",
       "</style>\n",
       "<table border=\"1\" class=\"dataframe\">\n",
       "  <thead>\n",
       "    <tr style=\"text-align: right;\">\n",
       "      <th></th>\n",
       "      <th>Patient_ID</th>\n",
       "      <th>Appointment_ID</th>\n",
       "      <th>Gender</th>\n",
       "      <th>Scheduled_Day</th>\n",
       "      <th>Appointment_Day</th>\n",
       "      <th>Age</th>\n",
       "      <th>Neighbourhood</th>\n",
       "      <th>Scholarship</th>\n",
       "      <th>Hypertension</th>\n",
       "      <th>Diabetes</th>\n",
       "      <th>Alcoholism</th>\n",
       "      <th>Handicap</th>\n",
       "      <th>SMS_Received</th>\n",
       "      <th>No_Show</th>\n",
       "      <th>Day_Of_Week</th>\n",
       "      <th>Waiting_Days</th>\n",
       "    </tr>\n",
       "  </thead>\n",
       "  <tbody>\n",
       "    <tr>\n",
       "      <td>0</td>\n",
       "      <td>29872499824296</td>\n",
       "      <td>5642903</td>\n",
       "      <td>F</td>\n",
       "      <td>2016-04-29</td>\n",
       "      <td>2016-04-29</td>\n",
       "      <td>62</td>\n",
       "      <td>Jardim Da Penha</td>\n",
       "      <td>0</td>\n",
       "      <td>1</td>\n",
       "      <td>0</td>\n",
       "      <td>0</td>\n",
       "      <td>0</td>\n",
       "      <td>0</td>\n",
       "      <td>No</td>\n",
       "      <td>Friday</td>\n",
       "      <td>0</td>\n",
       "    </tr>\n",
       "    <tr>\n",
       "      <td>1</td>\n",
       "      <td>558997776694438</td>\n",
       "      <td>5642503</td>\n",
       "      <td>M</td>\n",
       "      <td>2016-04-29</td>\n",
       "      <td>2016-04-29</td>\n",
       "      <td>56</td>\n",
       "      <td>Jardim Da Penha</td>\n",
       "      <td>0</td>\n",
       "      <td>0</td>\n",
       "      <td>0</td>\n",
       "      <td>0</td>\n",
       "      <td>0</td>\n",
       "      <td>0</td>\n",
       "      <td>No</td>\n",
       "      <td>Friday</td>\n",
       "      <td>0</td>\n",
       "    </tr>\n",
       "    <tr>\n",
       "      <td>2</td>\n",
       "      <td>4262962299951</td>\n",
       "      <td>5642549</td>\n",
       "      <td>F</td>\n",
       "      <td>2016-04-29</td>\n",
       "      <td>2016-04-29</td>\n",
       "      <td>62</td>\n",
       "      <td>Mata Da Praia</td>\n",
       "      <td>0</td>\n",
       "      <td>0</td>\n",
       "      <td>0</td>\n",
       "      <td>0</td>\n",
       "      <td>0</td>\n",
       "      <td>0</td>\n",
       "      <td>No</td>\n",
       "      <td>Friday</td>\n",
       "      <td>0</td>\n",
       "    </tr>\n",
       "    <tr>\n",
       "      <td>3</td>\n",
       "      <td>867951213174</td>\n",
       "      <td>5642828</td>\n",
       "      <td>F</td>\n",
       "      <td>2016-04-29</td>\n",
       "      <td>2016-04-29</td>\n",
       "      <td>8</td>\n",
       "      <td>Pontal De Camburi</td>\n",
       "      <td>0</td>\n",
       "      <td>0</td>\n",
       "      <td>0</td>\n",
       "      <td>0</td>\n",
       "      <td>0</td>\n",
       "      <td>0</td>\n",
       "      <td>No</td>\n",
       "      <td>Friday</td>\n",
       "      <td>0</td>\n",
       "    </tr>\n",
       "    <tr>\n",
       "      <td>4</td>\n",
       "      <td>8841186448183</td>\n",
       "      <td>5642494</td>\n",
       "      <td>F</td>\n",
       "      <td>2016-04-29</td>\n",
       "      <td>2016-04-29</td>\n",
       "      <td>56</td>\n",
       "      <td>Jardim Da Penha</td>\n",
       "      <td>0</td>\n",
       "      <td>1</td>\n",
       "      <td>1</td>\n",
       "      <td>0</td>\n",
       "      <td>0</td>\n",
       "      <td>0</td>\n",
       "      <td>No</td>\n",
       "      <td>Friday</td>\n",
       "      <td>0</td>\n",
       "    </tr>\n",
       "  </tbody>\n",
       "</table>\n",
       "</div>"
      ],
      "text/plain": [
       "        Patient_ID  Appointment_ID Gender Scheduled_Day Appointment_Day  Age  \\\n",
       "0   29872499824296         5642903      F    2016-04-29      2016-04-29   62   \n",
       "1  558997776694438         5642503      M    2016-04-29      2016-04-29   56   \n",
       "2    4262962299951         5642549      F    2016-04-29      2016-04-29   62   \n",
       "3     867951213174         5642828      F    2016-04-29      2016-04-29    8   \n",
       "4    8841186448183         5642494      F    2016-04-29      2016-04-29   56   \n",
       "\n",
       "       Neighbourhood  Scholarship  Hypertension  Diabetes  Alcoholism  \\\n",
       "0    Jardim Da Penha            0             1         0           0   \n",
       "1    Jardim Da Penha            0             0         0           0   \n",
       "2      Mata Da Praia            0             0         0           0   \n",
       "3  Pontal De Camburi            0             0         0           0   \n",
       "4    Jardim Da Penha            0             1         1           0   \n",
       "\n",
       "   Handicap  SMS_Received No_Show Day_Of_Week  Waiting_Days  \n",
       "0         0             0      No      Friday             0  \n",
       "1         0             0      No      Friday             0  \n",
       "2         0             0      No      Friday             0  \n",
       "3         0             0      No      Friday             0  \n",
       "4         0             0      No      Friday             0  "
      ]
     },
     "execution_count": 36,
     "metadata": {},
     "output_type": "execute_result"
    }
   ],
   "source": [
    "med.head()"
   ]
  },
  {
   "cell_type": "code",
   "execution_count": 37,
   "metadata": {},
   "outputs": [],
   "source": [
    "weather_list = [['1', '24.8', '32', '20', '1013.6', '77', '0', '15.8', '7.4', '20.6', '37', '\\xa0', '\\xa0', 'o', '\\xa0'],\n",
    "['2', '25.2', '30', '21.5', '1012.5', '80', '0.25', '15.3', '9.1', '16.5', '-', '\\xa0', '\\xa0', '\\xa0', '\\xa0'],\n",
    "['3', '24.9', '27.1', '23', '1012.7', '78', '0', '13.7', '9.8', '20.6', '-', '\\xa0', '\\xa0', '\\xa0', '\\xa0'],\n",
    "['4', '25.2', '29', '22.7', '1012.8', '86', '0', '14.3', '8.3', '25.9', '-', '\\xa0', '\\xa0', '\\xa0', '\\xa0'],\n",
    "['5', '25.9', '31', '22', '1013.5', '80', '0', '13.8', '11.7', '25.9', '-', '\\xa0', '\\xa0', '\\xa0', '\\xa0'],\n",
    "['6', '26.8', '34', '24', '1011.7', '79', '0', '14.3', '14.6', '31.7', '-', '\\xa0', '\\xa0', '\\xa0', '\\xa0'],\n",
    "['7', '24.7', '27', '23', '1011.8', '85', '0', '13', '14.6', '29.4', '-', '\\xa0', '\\xa0', '\\xa0', '\\xa0'],\n",
    "['8', '23.4', '25.5', '22', '1016.5', '78', '0', '13.4', '17.6', '25.9', '-', '\\xa0', '\\xa0', '\\xa0', '\\xa0'],\n",
    "['9', '20.6', '22', '19', '1019.4', '81', '5.08', '12.1', '15.4', '24.1', '-', 'o', '\\xa0', '\\xa0', '\\xa0'],\n",
    "['10', '21.4', '24', '19.8', '1020.3', '68', '0', '13.4', '9.6', '16.5', '-', '\\xa0', '\\xa0', '\\xa0', '\\xa0'],\n",
    "['11', '21', '23.2', '20', '1019.7', '72', '0.25', '12.2', '15.7', '29.4', '-', 'o', '\\xa0', '\\xa0', '\\xa0'],\n",
    "['12', '19.9', '21', '18', '1023.7', '66', '0.51', '12.7', '12.6', '16.5', '-', 'o', '\\xa0', '\\xa0', '\\xa0'],\n",
    "['13', '20', '22.2', '18', '1026.6', '61', '0', '14.6', '21.5', '33.5', '-', '\\xa0', '\\xa0', '\\xa0', '\\xa0'],\n",
    "['14', '21.1', '25.1', '17.7', '1027.7', '62', '0', '14.6', '18', '25.9', '-', '\\xa0', '\\xa0', '\\xa0', '\\xa0'],\n",
    "['15', '19', '25', '13', '1026.1', '75', '0', '15.3', '9.6', '24.1', '-', '\\xa0', '\\xa0', '\\xa0', '\\xa0'],\n",
    "['16', '19.6', '25', '15', '1024', '74', '0', '15.3', '9.8', '22.2', '-', '\\xa0', '\\xa0', '\\xa0', '\\xa0'],\n",
    "['17', '20.4', '27', '14.8', '1021.9', '73', '0', '16.7', '9.1', '20.6', '-', '\\xa0', '\\xa0', '\\xa0', '\\xa0'],\n",
    "['18', '20.6', '29', '13.5', '1020.4', '71', '0', '18.7', '8.3', '24.1', '-', '\\xa0', '\\xa0', '\\xa0', '\\xa0'],\n",
    "['19', '20', '24.5', '15', '1022', '86', '0', '13.5', '8.7', '24.1', '-', '\\xa0', '\\xa0', '\\xa0', '\\xa0'],\n",
    "['20', '21.7', '25', '18.7', '1021.3', '87', '0', '11.4', '8', '22.2', '-', '\\xa0', '\\xa0', '\\xa0', '\\xa0'],\n",
    "['21', '21.8', '24', '19.7', '1022.9', '83', '6.1', '10.5', '14.3', '27.8', '-', 'o', '\\xa0', '\\xa0', '\\xa0'],\n",
    "['22', '20.4', '22', '19', '1023.6', '92', '16', '8', '11.7', '20.6', '33.5', 'o', '\\xa0', '\\xa0', '\\xa0'],\n",
    "['23', '21.9', '28', '17.7', '1020.5', '84', '8.89', '15', '6.1', '16.5', '-', '\\xa0', '\\xa0', '\\xa0', '\\xa0'],\n",
    "['24', '22.1', '25', '19', '1021.9', '83', '0', '13.2', '15', '22.2', '-', '\\xa0', '\\xa0', '\\xa0', '\\xa0'],\n",
    "['25', '21.1', '23.2', '19.7', '1025', '85', '0.51', '12.1', '14.1', '22.2', '-', 'o', '\\xa0', '\\xa0', '\\xa0'],\n",
    "['26', '19.9', '23', '15.8', '1026.2', '88', '6.1', '11.4', '8.7', '20.6', '-', 'o', '\\xa0', '\\xa0', '\\xa0'],\n",
    "['27', '19.8', '22', '18', '1026.3', '95', '5.08', '8.9', '8.1', '20.6', '-', 'o', '\\xa0', '\\xa0', '\\xa0'],\n",
    "['28', '21.8', '25', '19.5', '1025.8', '85', '8.89', '10.1', '8', '13', '-', 'o', '\\xa0', '\\xa0', '\\xa0'],\n",
    "['29', '20.4', '24.2', '17.5', '1024.6', '92', '0', '11.3', '5.2', '16.5', '-', 'o', '\\xa0', '\\xa0', '\\xa0'],\n",
    "['30', '22.4', '25.5', '20', '1023.9', '90', '2.29', '12.9', '7', '18.3', '-', '\\xa0', '\\xa0', '\\xa0', '\\xa0']]\n",
    "\n",
    "weather = pd.DataFrame(columns=['Day', 'T', 'TM', 'Tm', 'SLP', 'H', 'PP', 'VV', 'V', 'VM', 'VG', 'RA', 'SN', 'TS', 'FG'], data=weather_list)"
   ]
  },
  {
   "cell_type": "code",
   "execution_count": 43,
   "metadata": {},
   "outputs": [
    {
     "data": {
      "text/html": [
       "<div>\n",
       "<style scoped>\n",
       "    .dataframe tbody tr th:only-of-type {\n",
       "        vertical-align: middle;\n",
       "    }\n",
       "\n",
       "    .dataframe tbody tr th {\n",
       "        vertical-align: top;\n",
       "    }\n",
       "\n",
       "    .dataframe thead th {\n",
       "        text-align: right;\n",
       "    }\n",
       "</style>\n",
       "<table border=\"1\" class=\"dataframe\">\n",
       "  <thead>\n",
       "    <tr style=\"text-align: right;\">\n",
       "      <th></th>\n",
       "      <th>Day</th>\n",
       "      <th>T</th>\n",
       "      <th>TM</th>\n",
       "      <th>Tm</th>\n",
       "      <th>SLP</th>\n",
       "      <th>H</th>\n",
       "      <th>PP</th>\n",
       "      <th>VV</th>\n",
       "      <th>V</th>\n",
       "      <th>VM</th>\n",
       "      <th>VG</th>\n",
       "      <th>RA</th>\n",
       "      <th>SN</th>\n",
       "      <th>TS</th>\n",
       "      <th>FG</th>\n",
       "    </tr>\n",
       "  </thead>\n",
       "  <tbody>\n",
       "    <tr>\n",
       "      <td>0</td>\n",
       "      <td>1</td>\n",
       "      <td>24.8</td>\n",
       "      <td>32</td>\n",
       "      <td>20</td>\n",
       "      <td>1013.6</td>\n",
       "      <td>77</td>\n",
       "      <td>0</td>\n",
       "      <td>15.8</td>\n",
       "      <td>7.4</td>\n",
       "      <td>20.6</td>\n",
       "      <td>37</td>\n",
       "      <td></td>\n",
       "      <td></td>\n",
       "      <td>o</td>\n",
       "      <td></td>\n",
       "    </tr>\n",
       "    <tr>\n",
       "      <td>1</td>\n",
       "      <td>2</td>\n",
       "      <td>25.2</td>\n",
       "      <td>30</td>\n",
       "      <td>21.5</td>\n",
       "      <td>1012.5</td>\n",
       "      <td>80</td>\n",
       "      <td>0.25</td>\n",
       "      <td>15.3</td>\n",
       "      <td>9.1</td>\n",
       "      <td>16.5</td>\n",
       "      <td>-</td>\n",
       "      <td></td>\n",
       "      <td></td>\n",
       "      <td></td>\n",
       "      <td></td>\n",
       "    </tr>\n",
       "    <tr>\n",
       "      <td>2</td>\n",
       "      <td>3</td>\n",
       "      <td>24.9</td>\n",
       "      <td>27.1</td>\n",
       "      <td>23</td>\n",
       "      <td>1012.7</td>\n",
       "      <td>78</td>\n",
       "      <td>0</td>\n",
       "      <td>13.7</td>\n",
       "      <td>9.8</td>\n",
       "      <td>20.6</td>\n",
       "      <td>-</td>\n",
       "      <td></td>\n",
       "      <td></td>\n",
       "      <td></td>\n",
       "      <td></td>\n",
       "    </tr>\n",
       "    <tr>\n",
       "      <td>3</td>\n",
       "      <td>4</td>\n",
       "      <td>25.2</td>\n",
       "      <td>29</td>\n",
       "      <td>22.7</td>\n",
       "      <td>1012.8</td>\n",
       "      <td>86</td>\n",
       "      <td>0</td>\n",
       "      <td>14.3</td>\n",
       "      <td>8.3</td>\n",
       "      <td>25.9</td>\n",
       "      <td>-</td>\n",
       "      <td></td>\n",
       "      <td></td>\n",
       "      <td></td>\n",
       "      <td></td>\n",
       "    </tr>\n",
       "    <tr>\n",
       "      <td>4</td>\n",
       "      <td>5</td>\n",
       "      <td>25.9</td>\n",
       "      <td>31</td>\n",
       "      <td>22</td>\n",
       "      <td>1013.5</td>\n",
       "      <td>80</td>\n",
       "      <td>0</td>\n",
       "      <td>13.8</td>\n",
       "      <td>11.7</td>\n",
       "      <td>25.9</td>\n",
       "      <td>-</td>\n",
       "      <td></td>\n",
       "      <td></td>\n",
       "      <td></td>\n",
       "      <td></td>\n",
       "    </tr>\n",
       "  </tbody>\n",
       "</table>\n",
       "</div>"
      ],
      "text/plain": [
       "   Day     T    TM    Tm     SLP   H    PP    VV     V    VM  VG RA SN TS FG\n",
       "0    1  24.8    32    20  1013.6  77     0  15.8   7.4  20.6  37        o   \n",
       "1    2  25.2    30  21.5  1012.5  80  0.25  15.3   9.1  16.5   -            \n",
       "2    3  24.9  27.1    23  1012.7  78     0  13.7   9.8  20.6   -            \n",
       "3    4  25.2    29  22.7  1012.8  86     0  14.3   8.3  25.9   -            \n",
       "4    5  25.9    31    22  1013.5  80     0  13.8  11.7  25.9   -            "
      ]
     },
     "execution_count": 43,
     "metadata": {},
     "output_type": "execute_result"
    }
   ],
   "source": [
    "weather.head()"
   ]
  },
  {
   "cell_type": "code",
   "execution_count": 38,
   "metadata": {},
   "outputs": [
    {
     "data": {
      "text/plain": [
       "Day    object\n",
       "T      object\n",
       "TM     object\n",
       "Tm     object\n",
       "SLP    object\n",
       "H      object\n",
       "PP     object\n",
       "VV     object\n",
       "V      object\n",
       "VM     object\n",
       "VG     object\n",
       "RA     object\n",
       "SN     object\n",
       "TS     object\n",
       "FG     object\n",
       "dtype: object"
      ]
     },
     "execution_count": 38,
     "metadata": {},
     "output_type": "execute_result"
    }
   ],
   "source": [
    "weather.dtypes"
   ]
  },
  {
   "cell_type": "code",
   "execution_count": 64,
   "metadata": {
    "scrolled": false
   },
   "outputs": [],
   "source": [
    "weather.drop(['VG', 'RA', 'SN', 'TS', 'FG'], axis=1, inplace=True)"
   ]
  },
  {
   "cell_type": "code",
   "execution_count": 65,
   "metadata": {
    "scrolled": true
   },
   "outputs": [
    {
     "data": {
      "text/plain": [
       "Day    0\n",
       "T      0\n",
       "TM     0\n",
       "Tm     0\n",
       "SLP    0\n",
       "H      0\n",
       "PP     0\n",
       "VV     0\n",
       "V      0\n",
       "VM     0\n",
       "dtype: int64"
      ]
     },
     "execution_count": 65,
     "metadata": {},
     "output_type": "execute_result"
    }
   ],
   "source": [
    "weather.isnull().sum(axis = 0)"
   ]
  },
  {
   "cell_type": "code",
   "execution_count": 66,
   "metadata": {},
   "outputs": [],
   "source": [
    "weather[['T', 'TM', 'Tm', 'SLP', 'H', 'PP', 'VV', 'V', 'VM']] = weather[['T', 'TM', 'Tm', 'SLP', 'H', 'PP', 'VV', 'V', 'VM']].apply(pd.to_numeric)"
   ]
  },
  {
   "cell_type": "code",
   "execution_count": 67,
   "metadata": {
    "scrolled": true
   },
   "outputs": [
    {
     "data": {
      "text/plain": [
       "Day      int32\n",
       "T      float64\n",
       "TM     float64\n",
       "Tm     float64\n",
       "SLP    float64\n",
       "H        int64\n",
       "PP     float64\n",
       "VV     float64\n",
       "V      float64\n",
       "VM     float64\n",
       "dtype: object"
      ]
     },
     "execution_count": 67,
     "metadata": {},
     "output_type": "execute_result"
    }
   ],
   "source": [
    "weather.dtypes"
   ]
  },
  {
   "cell_type": "code",
   "execution_count": 84,
   "metadata": {},
   "outputs": [
    {
     "data": {
      "image/png": "[encoded data removed]",
      "text/plain": [
       "<Figure size 432x288 with 1 Axes>"
      ]
     },
     "metadata": {
      "needs_background": "light"
     },
     "output_type": "display_data"
    }
   ],
   "source": [
    "#sns.lineplot(x='Day', y=[['T','TM','Tm']], data=weather, palette=\"hot\", linewidth=2.5);\n",
    "\n",
    "temp = weather[['Day','T','TM','Tm']].melt('Day', var_name='cols',  value_name='vals')\n",
    "temp_plot = sns.lineplot(x=\"Day\", y=\"vals\", hue='cols', data=temp, palette=\"hot\")"
   ]
  },
  {
   "cell_type": "code",
   "execution_count": 85,
   "metadata": {
    "scrolled": true
   },
   "outputs": [
    {
     "data": {
      "image/png": "[encoded data removed]",
      "text/plain": [
       "<Figure size 432x288 with 1 Axes>"
      ]
     },
     "metadata": {
      "needs_background": "light"
     },
     "output_type": "display_data"
    }
   ],
   "source": [
    "wind = weather[['Day','V','VM']].melt('Day', var_name='cols',  value_name='vals')\n",
    "wind_speed_plot = sns.lineplot(x=\"Day\", y=\"vals\", hue='cols', data=wind, palette=\"cool\")"
   ]
  },
  {
   "cell_type": "code",
   "execution_count": 88,
   "metadata": {},
   "outputs": [
    {
     "data": {
      "image/png": "[encoded data removed]",
      "text/plain": [
       "<Figure size 432x288 with 1 Axes>"
      ]
     },
     "metadata": {
      "needs_background": "light"
     },
     "output_type": "display_data"
    }
   ],
   "source": [
    "pressure_plot = sns.lineplot(x=\"Day\", y=\"SLP\", data=weather, palette=\"purple\")"
   ]
  },
  {
   "cell_type": "markdown",
   "metadata": {},
   "source": [
    "*T\tTemperatura media (ºC.)\n",
    "*TM\tTemperatura máxima media (ºC.)\n",
    "*Tm\tTemperatura mínima media (ºC.)\n",
    "SLP\tPresión atmosférica a nivel del mar (mb)\n",
    "*H\tHumedad relativa media (%)\n",
    "*PP\tPrecipitación total de lluvia y/o nieve derretida (mm)\n",
    "VV\tVisibilidad media (Km)\n",
    "*V\tVelocidad media del viento (Km/h)\n",
    "*VM\tVelocidad máxima sostenida del viento (Km/h)"
   ]
  }
 ],
 "metadata": {
  "kernelspec": {
   "display_name": "Python 3",
   "language": "python",
   "name": "python3"
  },
  "language_info": {
   "codemirror_mode": {
    "name": "ipython",
    "version": 3
   },
   "file_extension": ".py",
   "mimetype": "text/x-python",
   "name": "python",
   "nbconvert_exporter": "python",
   "pygments_lexer": "ipython3",
   "version": "3.7.4"
  }
 },
 "nbformat": 4,
 "nbformat_minor": 2
}
